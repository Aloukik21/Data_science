{
 "cells": [
  {
   "cell_type": "markdown",
   "metadata": {},
   "source": [
    "# Get Tweets\n",
    "\n",
    "This script extracts all the tweets with hashtag #covid-19 related to the day before today (yesterday) and saves them into a .csv file.\n",
    "We use the `tweepy` library, which can be installed with the command `pip install tweepy`.\n",
    "\n",
    "Firstly, we import the configuration file, called `config.py`, which is located in the same directory of this script."
   ]
  },
  {
   "cell_type": "code",
   "execution_count": 54,
   "metadata": {},
   "outputs": [],
   "source": [
    "from config import *\n",
    "import tweepy\n",
    "import datetime"
   ]
  },
  {
   "cell_type": "markdown",
   "metadata": {},
   "source": [
    "We setup the connection to our Twitter App by using the `OAuthHandler()` class and its `access_token()` function. Then we call the Twitter API through the `API()` function."
   ]
  },
  {
   "cell_type": "code",
   "execution_count": 55,
   "metadata": {},
   "outputs": [],
   "source": [
    "auth = tweepy.OAuthHandler(TWITTER_CONSUMER_KEY, TWITTER_CONSUMER_SECRET)\n",
    "auth.set_access_token(TWITTER_ACCESS_TOKEN, TWITTER_ACCESS_TOKEN_SECRET)\n",
    "api = tweepy.API(auth,wait_on_rate_limit=True)"
   ]
  },
  {
   "cell_type": "markdown",
   "metadata": {},
   "source": [
    "Now we setup dates. We need to setup today and yesterday."
   ]
  },
  {
   "cell_type": "code",
   "execution_count": 56,
   "metadata": {},
   "outputs": [
    {
     "data": {
      "text/plain": [
       "(datetime.date(2021, 3, 22), datetime.date(2021, 3, 21))"
      ]
     },
     "execution_count": 56,
     "metadata": {},
     "output_type": "execute_result"
    }
   ],
   "source": [
    "today = datetime.date.today()\n",
    "yesterday= today - datetime.timedelta(days=1)\n",
    "today, yesterday"
   ]
  },
  {
   "cell_type": "markdown",
   "metadata": {},
   "source": [
    "We search for tweets on Twitter by using the `Cursor()` function. \n",
    "We pass the `api.search` parameter to the cursor, as well as the query string, which is specified through the `q` parameter of the cursor.\n",
    "The query string can receive many parameters, such as the following (not mandatory) ones:\n",
    "* `from:` - to specify a specific Twitter user profile\n",
    "* `since:` - to specify the beginning date of search\n",
    "* `until:` - to specify the ending date of search\n",
    "The cursor can also receive other parameters, such as the language and the `tweet_mode`. If `tweet_mode='extended'`, all the text of the tweet is returned, otherwise only the first 140 characters."
   ]
  },
  {
   "cell_type": "code",
   "execution_count": 57,
   "metadata": {},
   "outputs": [],
   "source": [
    "tweets_list = tweepy.Cursor(api.search, q=\"#Covid-19 since:\" + str(yesterday)+ \" until:\" + str(today),tweet_mode='extended', lang='it').items()"
   ]
  },
  {
   "cell_type": "markdown",
   "metadata": {},
   "source": [
    "Now we loop across the `tweets_list`, and, for each tweet, we extract the text, the creation date, the number of retweets and the favourite count. We store every tweet into a list, called `output`."
   ]
  },
  {
   "cell_type": "code",
   "execution_count": 58,
   "metadata": {},
   "outputs": [
    {
     "name": "stdout",
     "output_type": "stream",
     "text": [
      "RT @Cirenderaliberi: PROSEGUONO I \"SUICIDI DI STATO\" \n",
      "\n",
      "https://t.co/VbMBZTUyoJ https://t.co/bkFv4alfOF\n",
      "@Consu84 Sta lavorando.. il progetto esiste e lei è ambasciatrice. \n",
      "\n",
      "https://t.co/HPs6bFRUcd\n",
      "@GingerPresident Il progetto esiste veramente, non si è inventata proprio nulla\n",
      "https://t.co/HPs6bFRUcd\n",
      "RT @Vic5211: Guenda non si è inventata proprio nulla.. Almeno se l'avessero fatta parlare\n",
      "https://t.co/HPs6bFRUcd \n",
      " #noneladurso\n",
      "Guenda non si è inventata proprio nulla.. Almeno se l'avessero fatta parlare\n",
      "https://t.co/HPs6bFRUcd \n",
      " #noneladurso\n",
      "RT @MinervaMcGrani1: Allora amici se mi dimentico qualcosa aggiungete pure alla lista\n",
      "\n",
      "Con il #Covid_19 sono riusciti a : fare fuori Trump,…\n",
      "RT @RobertoBurioni: Vi aspetto questa sera, per spiegarvi come si stabilisce che un vaccino è sicuro ed efficace, in modo che possiate vacc…\n",
      "RT @donTonio66: Ai \"furbetti del vaccino\" e a chi ritiene che il #Covid_19 sia cosa da niente: domani, alle 16.30, venite al cimitero del m…\n",
      "RT @borghi_claudio: @Corss80 @Ferdi__Romano @PagellaPolitica Comunque se proprio lo chiede ecco qui il brillante piano del North Dakota, co…\n",
      "Quando capirete che:\n",
      "➡️ in periodo di Covid-19 le regole e la sanzione amministrativa - in Italia - non sono fatte per tutti i cittadini di ogni rango e ordine ma solo per intimidire chi non ha un soldo e/o chi non vuole avere problemi, non vi interrogherete più sul perché\n",
      "Come funzionano i #tamponi rapidi per il Covid-19 https://t.co/eEYswWdbQn\n",
      "RT @marcopalears: In #Lombardia abbiamo la prova provata che il #Covid_19 attacca anche i neuroni, oltre ai polmoni, altrimenti non si spie…\n",
      "RT @_cieloitalia: Covid-19: riceve il vaccino, muore 6 giorni dopo l'inoculazione.\n",
      "Non #hastato il covid\n",
      "https://t.co/mmDANK1JuR\n",
      "RT @BarthNovais: @uborajun Covid-19 e racista!\n",
      "RT @GermanoDottori: Avremo vaccini anti-Covid orali, che assumeremo con un bicchier d'acqua. La gestione della pandemia diventerà più facil…\n",
      "@ZZiliani Ma lasciatelo parlare ma non lo vedi che si è bevuto il cervello, sta da un'ora al club e già parla come caressa\n",
      "Certo che caressa contagia parecchie persone, peggio del covid 19\n",
      "RT @alessand_mella: La curva #Covid_19  è in calo secondo un percorso avviato da settimane. Ma fondazioni, istituzioni e media correranno a…\n",
      "RT @_cieloitalia: Covid-19: riceve il vaccino, muore 6 giorni dopo l'inoculazione.\n",
      "Non #hastato il covid\n",
      "https://t.co/mmDANK1JuR\n",
      "RT @Lucilla_888: 🔴 LA FALSA LORENZIN AFFERMAVA IN COLLEGAMENTO DA CASA  UTILIZZARE TACHIPIRINA\n",
      "COME TERAPIA CONTRO COVID-19!\n",
      "\n",
      "🔴NUNZIA DE GI…\n",
      "RT @HANIA243474887: La cura tempestiva è ESSENZIALE nella cura del covid, sopratutto per le persone anziane. Il PROTOCOLLO ASSASSINO di AIF…\n",
      "RT @Belzebu6663: Piacenza ha avuto il maggior numero di morti nelle RSA per #Covid_19 ma avete mai sentito attaccare l' Emilia Romagna? No…\n",
      "RT @MinervaMcGrani1: Allora amici se mi dimentico qualcosa aggiungete pure alla lista\n",
      "\n",
      "Con il #Covid_19 sono riusciti a : fare fuori Trump,…\n",
      "RT @PMO_W: La variante #P1 del #Covid_19 in #Brasile nell'ultima settimana ha causato oltre UN MILIONE di casi portando al totale collasso…\n",
      "RT @marcopalears: In #Lombardia abbiamo la prova provata che il #Covid_19 attacca anche i neuroni, oltre ai polmoni, altrimenti non si spie…\n",
      "RT @MinervaMcGrani1: Allora amici se mi dimentico qualcosa aggiungete pure alla lista\n",
      "\n",
      "Con il #Covid_19 sono riusciti a : fare fuori Trump,…\n",
      "RT @GermanoDottori: Avremo vaccini anti-Covid orali, che assumeremo con un bicchier d'acqua. La gestione della pandemia diventerà più facil…\n",
      "@LetiziaMoratti @AriaLombardia @LetiziaMoratti la società ARIA non è un corpo estraneo alla gestione politica della #Lombardia. Ne è il braccio operativo voluto dalla @LegaSalvini. Domani se pioverà a chi darai la colpa?\n",
      "#FontanaDimettiti\n",
      "#MorattiDimettiti\n",
      "#Salvini smettila di straparlare\n",
      "#Covid_19\n",
      "#vaccini https://t.co/RtEPMpG4lh\n",
      "RT @_cieloitalia: Covid-19: riceve il vaccino, muore 6 giorni dopo l'inoculazione.\n",
      "Non #hastato il covid\n",
      "https://t.co/mmDANK1JuR\n",
      "RT @_cieloitalia: Covid-19: riceve il vaccino, muore 6 giorni dopo l'inoculazione.\n",
      "Non #hastato il covid\n",
      "https://t.co/mmDANK1JuR\n",
      "RT @borghi_claudio: @Corss80 @Ferdi__Romano @PagellaPolitica Comunque se proprio lo chiede ecco qui il brillante piano del North Dakota, co…\n",
      "@Momo_glad Non lo metti? Mettilo in questo periodo storico segnato dall'epidemia Covid-19\n",
      "RT @borghi_claudio: @Corss80 @Ferdi__Romano @PagellaPolitica Comunque se proprio lo chiede ecco qui il brillante piano del North Dakota, co…\n",
      "RT @GermanoDottori: Avremo vaccini anti-Covid orali, che assumeremo con un bicchier d'acqua. La gestione della pandemia diventerà più facil…\n",
      "RT @HANIA243474887: La cura tempestiva è ESSENZIALE nella cura del covid, sopratutto per le persone anziane. Il PROTOCOLLO ASSASSINO di AIF…\n",
      "RT @borghi_claudio: @Corss80 @Ferdi__Romano @PagellaPolitica Comunque se proprio lo chiede ecco qui il brillante piano del North Dakota, co…\n",
      "RT @borghi_claudio: @Corss80 @Ferdi__Romano @PagellaPolitica Amico, non sono le contee, qui si sta discutendo dei provvedimenti annunciati…\n",
      "RT @borghi_claudio: @Corss80 @Ferdi__Romano @PagellaPolitica Comunque se proprio lo chiede ecco qui il brillante piano del North Dakota, co…\n",
      "RT @BarthNovais: @uborajun Covid-19 e racista!\n",
      "RT @Cirenderaliberi: 🍺🍺 \n",
      "\n",
      "BIRRA E' POSITIVA AL TEST COVID-19  \n",
      "\n",
      "🤔\n",
      "\n",
      "#bastaterrorismomediatico #notaponi #noid2020 #novax #COVID19 #Vaccinoai…\n",
      "RT @RobertoBurioni: Io ho 58 anni e sto bene (corna). Se prendo COVID-19 ho un rischio (certo) di morire intorno a 1 su 100. Se mi vaccino…\n",
      "RT @GermanoDottori: Avremo vaccini anti-Covid orali, che assumeremo con un bicchier d'acqua. La gestione della pandemia diventerà più facil…\n",
      "RT @MinervaMcGrani1: Allora amici se mi dimentico qualcosa aggiungete pure alla lista\n",
      "\n",
      "Con il #Covid_19 sono riusciti a : fare fuori Trump,…\n",
      "Covid-19 Italia - Stima CFR (by @accdavlo) \n",
      "\n",
      "Siamo ad un 2% circa, come mostrato dai grafici frutto di conti fatti un po' meglio rispetto al lag fisso casi-decessi di due settimane.\n",
      "\n",
      "Circa 2% di CFR, proprio come nella fase di salita dello scorso autunno (tanto per essere chiari) https://t.co/i2HZvv6NzK\n",
      "RT @Belzebu6663: Piacenza ha avuto il maggior numero di morti nelle RSA per #Covid_19 ma avete mai sentito attaccare l' Emilia Romagna? No…\n",
      "RT @GermanoDottori: Avremo vaccini anti-Covid orali, che assumeremo con un bicchier d'acqua. La gestione della pandemia diventerà più facil…\n",
      "Nel cordoglio per la scomparsa dell'amico Vincenzo CALABRESE, vittima del covid-19, l'auspicio del Presidente della Provincia di MATERA, Piero MARRESE: \"E' indispensabile allo stato attuale un'accelerazione nei vaccini soprattutto dei soggetti fragili e immunodepressi\". https://t.co/nl6uQCSCGb\n",
      "RT @MinervaMcGrani1: Allora amici se mi dimentico qualcosa aggiungete pure alla lista\n",
      "\n",
      "Con il #Covid_19 sono riusciti a : fare fuori Trump,…\n",
      "RT @AndreaBellavit: Lo spirito dei piedi. Il blog di Andrea Bellavite: La consolazione della #filosofia #Covid_19 #sensodellavita https://t…\n",
      "RT @borghi_claudio: @Corss80 @Ferdi__Romano @PagellaPolitica Amico, non sono le contee, qui si sta discutendo dei provvedimenti annunciati…\n",
      "RT @Sportellate_it: In questa prima parte di intervento #Allegri ha soprattutto rivendicato la sua condizione di “gestore” che sta anche so…\n",
      "RT @borghi_claudio: @Corss80 @Ferdi__Romano @PagellaPolitica Comunque se proprio lo chiede ecco qui il brillante piano del North Dakota, co…\n",
      "RT @borghi_claudio: @Corss80 @Ferdi__Romano @PagellaPolitica Comunque se proprio lo chiede ecco qui il brillante piano del North Dakota, co…\n",
      "RT @Belzebu6663: Piacenza ha avuto il maggior numero di morti nelle RSA per #Covid_19 ma avete mai sentito attaccare l' Emilia Romagna? No…\n",
      "RT @DelpapaMax: Circola un documento ufficiale dell'ISS \"Indicazioni ad interim sulle misure \n",
      "di prevenzione e controllo \n",
      "delle infezioni d…\n",
      "RT @StefanoPutinati: Parte II: colpa medica per uso off label di farmaci e best practice nelle cure per Covid-19. \n",
      "Coronavirus e colpa medi…\n",
      "RT @borghi_claudio: @Corss80 @Ferdi__Romano @PagellaPolitica Comunque se proprio lo chiede ecco qui il brillante piano del North Dakota, co…\n",
      "RT @89charl9: #18marzo2021 \n",
      "Giornata nazionale per le vittime del Covid-19\n",
      "\n",
      "Un pensiero e una preghiera per tutti coloro che non ce l'hanno…\n",
      "RT @_cieloitalia: Covid-19: riceve il vaccino, muore 6 giorni dopo l'inoculazione.\n",
      "Non #hastato il covid\n",
      "https://t.co/mmDANK1JuR\n",
      "RT @borghi_claudio: @Corss80 @Ferdi__Romano @PagellaPolitica Comunque se proprio lo chiede ecco qui il brillante piano del North Dakota, co…\n",
      "RT @borghi_claudio: @Corss80 @Ferdi__Romano @PagellaPolitica Comunque se proprio lo chiede ecco qui il brillante piano del North Dakota, co…\n"
     ]
    },
    {
     "ename": "KeyboardInterrupt",
     "evalue": "",
     "output_type": "error",
     "traceback": [
      "\u001b[0;31m---------------------------------------------------------------------------\u001b[0m",
      "\u001b[0;31mKeyboardInterrupt\u001b[0m                         Traceback (most recent call last)",
      "\u001b[0;32m<ipython-input-58-57c7869ffbe3>\u001b[0m in \u001b[0;36m<module>\u001b[0;34m\u001b[0m\n\u001b[1;32m      1\u001b[0m \u001b[0moutput\u001b[0m \u001b[0;34m=\u001b[0m \u001b[0;34m[\u001b[0m\u001b[0;34m]\u001b[0m\u001b[0;34m\u001b[0m\u001b[0;34m\u001b[0m\u001b[0m\n\u001b[0;32m----> 2\u001b[0;31m \u001b[0;32mfor\u001b[0m \u001b[0mtweet\u001b[0m \u001b[0;32min\u001b[0m \u001b[0mtweets_list\u001b[0m\u001b[0;34m:\u001b[0m\u001b[0;34m\u001b[0m\u001b[0;34m\u001b[0m\u001b[0m\n\u001b[0m\u001b[1;32m      3\u001b[0m     \u001b[0mtext\u001b[0m \u001b[0;34m=\u001b[0m \u001b[0mtweet\u001b[0m\u001b[0;34m.\u001b[0m\u001b[0m_json\u001b[0m\u001b[0;34m[\u001b[0m\u001b[0;34m\"full_text\"\u001b[0m\u001b[0;34m]\u001b[0m\u001b[0;34m\u001b[0m\u001b[0;34m\u001b[0m\u001b[0m\n\u001b[1;32m      4\u001b[0m     \u001b[0mprint\u001b[0m\u001b[0;34m(\u001b[0m\u001b[0mtext\u001b[0m\u001b[0;34m)\u001b[0m\u001b[0;34m\u001b[0m\u001b[0;34m\u001b[0m\u001b[0m\n\u001b[1;32m      5\u001b[0m     \u001b[0mfavourite_count\u001b[0m \u001b[0;34m=\u001b[0m \u001b[0mtweet\u001b[0m\u001b[0;34m.\u001b[0m\u001b[0mfavorite_count\u001b[0m\u001b[0;34m\u001b[0m\u001b[0;34m\u001b[0m\u001b[0m\n",
      "\u001b[0;32m/Library/Frameworks/Python.framework/Versions/3.8/lib/python3.8/site-packages/tweepy/cursor.py\u001b[0m in \u001b[0;36m__next__\u001b[0;34m(self)\u001b[0m\n\u001b[1;32m     47\u001b[0m \u001b[0;34m\u001b[0m\u001b[0m\n\u001b[1;32m     48\u001b[0m     \u001b[0;32mdef\u001b[0m \u001b[0m__next__\u001b[0m\u001b[0;34m(\u001b[0m\u001b[0mself\u001b[0m\u001b[0;34m)\u001b[0m\u001b[0;34m:\u001b[0m\u001b[0;34m\u001b[0m\u001b[0;34m\u001b[0m\u001b[0m\n\u001b[0;32m---> 49\u001b[0;31m         \u001b[0;32mreturn\u001b[0m \u001b[0mself\u001b[0m\u001b[0;34m.\u001b[0m\u001b[0mnext\u001b[0m\u001b[0;34m(\u001b[0m\u001b[0;34m)\u001b[0m\u001b[0;34m\u001b[0m\u001b[0;34m\u001b[0m\u001b[0m\n\u001b[0m\u001b[1;32m     50\u001b[0m \u001b[0;34m\u001b[0m\u001b[0m\n\u001b[1;32m     51\u001b[0m     \u001b[0;32mdef\u001b[0m \u001b[0mnext\u001b[0m\u001b[0;34m(\u001b[0m\u001b[0mself\u001b[0m\u001b[0;34m)\u001b[0m\u001b[0;34m:\u001b[0m\u001b[0;34m\u001b[0m\u001b[0;34m\u001b[0m\u001b[0m\n",
      "\u001b[0;32m/Library/Frameworks/Python.framework/Versions/3.8/lib/python3.8/site-packages/tweepy/cursor.py\u001b[0m in \u001b[0;36mnext\u001b[0;34m(self)\u001b[0m\n\u001b[1;32m    217\u001b[0m         \u001b[0;32mif\u001b[0m \u001b[0mself\u001b[0m\u001b[0;34m.\u001b[0m\u001b[0mcurrent_page\u001b[0m \u001b[0;32mis\u001b[0m \u001b[0;32mNone\u001b[0m \u001b[0;32mor\u001b[0m \u001b[0mself\u001b[0m\u001b[0;34m.\u001b[0m\u001b[0mpage_index\u001b[0m \u001b[0;34m==\u001b[0m \u001b[0mlen\u001b[0m\u001b[0;34m(\u001b[0m\u001b[0mself\u001b[0m\u001b[0;34m.\u001b[0m\u001b[0mcurrent_page\u001b[0m\u001b[0;34m)\u001b[0m \u001b[0;34m-\u001b[0m \u001b[0;36m1\u001b[0m\u001b[0;34m:\u001b[0m\u001b[0;34m\u001b[0m\u001b[0;34m\u001b[0m\u001b[0m\n\u001b[1;32m    218\u001b[0m             \u001b[0;31m# Reached end of current page, get the next page...\u001b[0m\u001b[0;34m\u001b[0m\u001b[0;34m\u001b[0m\u001b[0;34m\u001b[0m\u001b[0m\n\u001b[0;32m--> 219\u001b[0;31m             \u001b[0mself\u001b[0m\u001b[0;34m.\u001b[0m\u001b[0mcurrent_page\u001b[0m \u001b[0;34m=\u001b[0m \u001b[0mself\u001b[0m\u001b[0;34m.\u001b[0m\u001b[0mpage_iterator\u001b[0m\u001b[0;34m.\u001b[0m\u001b[0mnext\u001b[0m\u001b[0;34m(\u001b[0m\u001b[0;34m)\u001b[0m\u001b[0;34m\u001b[0m\u001b[0;34m\u001b[0m\u001b[0m\n\u001b[0m\u001b[1;32m    220\u001b[0m             \u001b[0;32mwhile\u001b[0m \u001b[0mlen\u001b[0m\u001b[0;34m(\u001b[0m\u001b[0mself\u001b[0m\u001b[0;34m.\u001b[0m\u001b[0mcurrent_page\u001b[0m\u001b[0;34m)\u001b[0m \u001b[0;34m==\u001b[0m \u001b[0;36m0\u001b[0m\u001b[0;34m:\u001b[0m\u001b[0;34m\u001b[0m\u001b[0;34m\u001b[0m\u001b[0m\n\u001b[1;32m    221\u001b[0m                 \u001b[0mself\u001b[0m\u001b[0;34m.\u001b[0m\u001b[0mcurrent_page\u001b[0m \u001b[0;34m=\u001b[0m \u001b[0mself\u001b[0m\u001b[0;34m.\u001b[0m\u001b[0mpage_iterator\u001b[0m\u001b[0;34m.\u001b[0m\u001b[0mnext\u001b[0m\u001b[0;34m(\u001b[0m\u001b[0;34m)\u001b[0m\u001b[0;34m\u001b[0m\u001b[0;34m\u001b[0m\u001b[0m\n",
      "\u001b[0;32m/Library/Frameworks/Python.framework/Versions/3.8/lib/python3.8/site-packages/tweepy/cursor.py\u001b[0m in \u001b[0;36mnext\u001b[0;34m(self)\u001b[0m\n\u001b[1;32m    128\u001b[0m \u001b[0;34m\u001b[0m\u001b[0m\n\u001b[1;32m    129\u001b[0m         \u001b[0;32mif\u001b[0m \u001b[0mself\u001b[0m\u001b[0;34m.\u001b[0m\u001b[0mindex\u001b[0m \u001b[0;34m>=\u001b[0m \u001b[0mlen\u001b[0m\u001b[0;34m(\u001b[0m\u001b[0mself\u001b[0m\u001b[0;34m.\u001b[0m\u001b[0mresults\u001b[0m\u001b[0;34m)\u001b[0m \u001b[0;34m-\u001b[0m \u001b[0;36m1\u001b[0m\u001b[0;34m:\u001b[0m\u001b[0;34m\u001b[0m\u001b[0;34m\u001b[0m\u001b[0m\n\u001b[0;32m--> 130\u001b[0;31m             \u001b[0mdata\u001b[0m \u001b[0;34m=\u001b[0m \u001b[0mself\u001b[0m\u001b[0;34m.\u001b[0m\u001b[0mmethod\u001b[0m\u001b[0;34m(\u001b[0m\u001b[0mmax_id\u001b[0m\u001b[0;34m=\u001b[0m\u001b[0mself\u001b[0m\u001b[0;34m.\u001b[0m\u001b[0mmax_id\u001b[0m\u001b[0;34m,\u001b[0m \u001b[0mparser\u001b[0m\u001b[0;34m=\u001b[0m\u001b[0mRawParser\u001b[0m\u001b[0;34m(\u001b[0m\u001b[0;34m)\u001b[0m\u001b[0;34m,\u001b[0m \u001b[0;34m*\u001b[0m\u001b[0mself\u001b[0m\u001b[0;34m.\u001b[0m\u001b[0margs\u001b[0m\u001b[0;34m,\u001b[0m \u001b[0;34m**\u001b[0m\u001b[0mself\u001b[0m\u001b[0;34m.\u001b[0m\u001b[0mkwargs\u001b[0m\u001b[0;34m)\u001b[0m\u001b[0;34m\u001b[0m\u001b[0;34m\u001b[0m\u001b[0m\n\u001b[0m\u001b[1;32m    131\u001b[0m \u001b[0;34m\u001b[0m\u001b[0m\n\u001b[1;32m    132\u001b[0m             \u001b[0;32mif\u001b[0m \u001b[0mhasattr\u001b[0m\u001b[0;34m(\u001b[0m\u001b[0mself\u001b[0m\u001b[0;34m.\u001b[0m\u001b[0mmethod\u001b[0m\u001b[0;34m,\u001b[0m \u001b[0;34m'__self__'\u001b[0m\u001b[0;34m)\u001b[0m\u001b[0;34m:\u001b[0m\u001b[0;34m\u001b[0m\u001b[0;34m\u001b[0m\u001b[0m\n",
      "\u001b[0;32m/Library/Frameworks/Python.framework/Versions/3.8/lib/python3.8/site-packages/tweepy/binder.py\u001b[0m in \u001b[0;36m_call\u001b[0;34m(*args, **kwargs)\u001b[0m\n\u001b[1;32m    250\u001b[0m                 \u001b[0;32mreturn\u001b[0m \u001b[0mmethod\u001b[0m\u001b[0;34m\u001b[0m\u001b[0;34m\u001b[0m\u001b[0m\n\u001b[1;32m    251\u001b[0m             \u001b[0;32melse\u001b[0m\u001b[0;34m:\u001b[0m\u001b[0;34m\u001b[0m\u001b[0;34m\u001b[0m\u001b[0m\n\u001b[0;32m--> 252\u001b[0;31m                 \u001b[0;32mreturn\u001b[0m \u001b[0mmethod\u001b[0m\u001b[0;34m.\u001b[0m\u001b[0mexecute\u001b[0m\u001b[0;34m(\u001b[0m\u001b[0;34m)\u001b[0m\u001b[0;34m\u001b[0m\u001b[0;34m\u001b[0m\u001b[0m\n\u001b[0m\u001b[1;32m    253\u001b[0m         \u001b[0;32mfinally\u001b[0m\u001b[0;34m:\u001b[0m\u001b[0;34m\u001b[0m\u001b[0;34m\u001b[0m\u001b[0m\n\u001b[1;32m    254\u001b[0m             \u001b[0mmethod\u001b[0m\u001b[0;34m.\u001b[0m\u001b[0msession\u001b[0m\u001b[0;34m.\u001b[0m\u001b[0mclose\u001b[0m\u001b[0;34m(\u001b[0m\u001b[0;34m)\u001b[0m\u001b[0;34m\u001b[0m\u001b[0;34m\u001b[0m\u001b[0m\n",
      "\u001b[0;32m/Library/Frameworks/Python.framework/Versions/3.8/lib/python3.8/site-packages/tweepy/binder.py\u001b[0m in \u001b[0;36mexecute\u001b[0;34m(self)\u001b[0m\n\u001b[1;32m    182\u001b[0m                 \u001b[0;31m# Execute request\u001b[0m\u001b[0;34m\u001b[0m\u001b[0;34m\u001b[0m\u001b[0;34m\u001b[0m\u001b[0m\n\u001b[1;32m    183\u001b[0m                 \u001b[0;32mtry\u001b[0m\u001b[0;34m:\u001b[0m\u001b[0;34m\u001b[0m\u001b[0;34m\u001b[0m\u001b[0m\n\u001b[0;32m--> 184\u001b[0;31m                     resp = self.session.request(self.method,\n\u001b[0m\u001b[1;32m    185\u001b[0m                                                 \u001b[0mfull_url\u001b[0m\u001b[0;34m,\u001b[0m\u001b[0;34m\u001b[0m\u001b[0;34m\u001b[0m\u001b[0m\n\u001b[1;32m    186\u001b[0m                                                 \u001b[0mdata\u001b[0m\u001b[0;34m=\u001b[0m\u001b[0mself\u001b[0m\u001b[0;34m.\u001b[0m\u001b[0mpost_data\u001b[0m\u001b[0;34m,\u001b[0m\u001b[0;34m\u001b[0m\u001b[0;34m\u001b[0m\u001b[0m\n",
      "\u001b[0;32m/Library/Frameworks/Python.framework/Versions/3.8/lib/python3.8/site-packages/requests/sessions.py\u001b[0m in \u001b[0;36mrequest\u001b[0;34m(self, method, url, params, data, headers, cookies, files, auth, timeout, allow_redirects, proxies, hooks, stream, verify, cert, json)\u001b[0m\n\u001b[1;32m    528\u001b[0m         }\n\u001b[1;32m    529\u001b[0m         \u001b[0msend_kwargs\u001b[0m\u001b[0;34m.\u001b[0m\u001b[0mupdate\u001b[0m\u001b[0;34m(\u001b[0m\u001b[0msettings\u001b[0m\u001b[0;34m)\u001b[0m\u001b[0;34m\u001b[0m\u001b[0;34m\u001b[0m\u001b[0m\n\u001b[0;32m--> 530\u001b[0;31m         \u001b[0mresp\u001b[0m \u001b[0;34m=\u001b[0m \u001b[0mself\u001b[0m\u001b[0;34m.\u001b[0m\u001b[0msend\u001b[0m\u001b[0;34m(\u001b[0m\u001b[0mprep\u001b[0m\u001b[0;34m,\u001b[0m \u001b[0;34m**\u001b[0m\u001b[0msend_kwargs\u001b[0m\u001b[0;34m)\u001b[0m\u001b[0;34m\u001b[0m\u001b[0;34m\u001b[0m\u001b[0m\n\u001b[0m\u001b[1;32m    531\u001b[0m \u001b[0;34m\u001b[0m\u001b[0m\n\u001b[1;32m    532\u001b[0m         \u001b[0;32mreturn\u001b[0m \u001b[0mresp\u001b[0m\u001b[0;34m\u001b[0m\u001b[0;34m\u001b[0m\u001b[0m\n",
      "\u001b[0;32m/Library/Frameworks/Python.framework/Versions/3.8/lib/python3.8/site-packages/requests/sessions.py\u001b[0m in \u001b[0;36msend\u001b[0;34m(self, request, **kwargs)\u001b[0m\n\u001b[1;32m    641\u001b[0m \u001b[0;34m\u001b[0m\u001b[0m\n\u001b[1;32m    642\u001b[0m         \u001b[0;31m# Send the request\u001b[0m\u001b[0;34m\u001b[0m\u001b[0;34m\u001b[0m\u001b[0;34m\u001b[0m\u001b[0m\n\u001b[0;32m--> 643\u001b[0;31m         \u001b[0mr\u001b[0m \u001b[0;34m=\u001b[0m \u001b[0madapter\u001b[0m\u001b[0;34m.\u001b[0m\u001b[0msend\u001b[0m\u001b[0;34m(\u001b[0m\u001b[0mrequest\u001b[0m\u001b[0;34m,\u001b[0m \u001b[0;34m**\u001b[0m\u001b[0mkwargs\u001b[0m\u001b[0;34m)\u001b[0m\u001b[0;34m\u001b[0m\u001b[0;34m\u001b[0m\u001b[0m\n\u001b[0m\u001b[1;32m    644\u001b[0m \u001b[0;34m\u001b[0m\u001b[0m\n\u001b[1;32m    645\u001b[0m         \u001b[0;31m# Total elapsed time of the request (approximately)\u001b[0m\u001b[0;34m\u001b[0m\u001b[0;34m\u001b[0m\u001b[0;34m\u001b[0m\u001b[0m\n",
      "\u001b[0;32m/Library/Frameworks/Python.framework/Versions/3.8/lib/python3.8/site-packages/requests/adapters.py\u001b[0m in \u001b[0;36msend\u001b[0;34m(self, request, stream, timeout, verify, cert, proxies)\u001b[0m\n\u001b[1;32m    437\u001b[0m         \u001b[0;32mtry\u001b[0m\u001b[0;34m:\u001b[0m\u001b[0;34m\u001b[0m\u001b[0;34m\u001b[0m\u001b[0m\n\u001b[1;32m    438\u001b[0m             \u001b[0;32mif\u001b[0m \u001b[0;32mnot\u001b[0m \u001b[0mchunked\u001b[0m\u001b[0;34m:\u001b[0m\u001b[0;34m\u001b[0m\u001b[0;34m\u001b[0m\u001b[0m\n\u001b[0;32m--> 439\u001b[0;31m                 resp = conn.urlopen(\n\u001b[0m\u001b[1;32m    440\u001b[0m                     \u001b[0mmethod\u001b[0m\u001b[0;34m=\u001b[0m\u001b[0mrequest\u001b[0m\u001b[0;34m.\u001b[0m\u001b[0mmethod\u001b[0m\u001b[0;34m,\u001b[0m\u001b[0;34m\u001b[0m\u001b[0;34m\u001b[0m\u001b[0m\n\u001b[1;32m    441\u001b[0m                     \u001b[0murl\u001b[0m\u001b[0;34m=\u001b[0m\u001b[0murl\u001b[0m\u001b[0;34m,\u001b[0m\u001b[0;34m\u001b[0m\u001b[0;34m\u001b[0m\u001b[0m\n",
      "\u001b[0;32m/Library/Frameworks/Python.framework/Versions/3.8/lib/python3.8/site-packages/urllib3/connectionpool.py\u001b[0m in \u001b[0;36murlopen\u001b[0;34m(self, method, url, body, headers, retries, redirect, assert_same_host, timeout, pool_timeout, release_conn, chunked, body_pos, **response_kw)\u001b[0m\n\u001b[1;32m    663\u001b[0m \u001b[0;34m\u001b[0m\u001b[0m\n\u001b[1;32m    664\u001b[0m             \u001b[0;31m# Make the request on the httplib connection object.\u001b[0m\u001b[0;34m\u001b[0m\u001b[0;34m\u001b[0m\u001b[0;34m\u001b[0m\u001b[0m\n\u001b[0;32m--> 665\u001b[0;31m             httplib_response = self._make_request(\n\u001b[0m\u001b[1;32m    666\u001b[0m                 \u001b[0mconn\u001b[0m\u001b[0;34m,\u001b[0m\u001b[0;34m\u001b[0m\u001b[0;34m\u001b[0m\u001b[0m\n\u001b[1;32m    667\u001b[0m                 \u001b[0mmethod\u001b[0m\u001b[0;34m,\u001b[0m\u001b[0;34m\u001b[0m\u001b[0;34m\u001b[0m\u001b[0m\n",
      "\u001b[0;32m/Library/Frameworks/Python.framework/Versions/3.8/lib/python3.8/site-packages/urllib3/connectionpool.py\u001b[0m in \u001b[0;36m_make_request\u001b[0;34m(self, conn, method, url, timeout, chunked, **httplib_request_kw)\u001b[0m\n\u001b[1;32m    374\u001b[0m         \u001b[0;31m# Trigger any extra validation we need to do.\u001b[0m\u001b[0;34m\u001b[0m\u001b[0;34m\u001b[0m\u001b[0;34m\u001b[0m\u001b[0m\n\u001b[1;32m    375\u001b[0m         \u001b[0;32mtry\u001b[0m\u001b[0;34m:\u001b[0m\u001b[0;34m\u001b[0m\u001b[0;34m\u001b[0m\u001b[0m\n\u001b[0;32m--> 376\u001b[0;31m             \u001b[0mself\u001b[0m\u001b[0;34m.\u001b[0m\u001b[0m_validate_conn\u001b[0m\u001b[0;34m(\u001b[0m\u001b[0mconn\u001b[0m\u001b[0;34m)\u001b[0m\u001b[0;34m\u001b[0m\u001b[0;34m\u001b[0m\u001b[0m\n\u001b[0m\u001b[1;32m    377\u001b[0m         \u001b[0;32mexcept\u001b[0m \u001b[0;34m(\u001b[0m\u001b[0mSocketTimeout\u001b[0m\u001b[0;34m,\u001b[0m \u001b[0mBaseSSLError\u001b[0m\u001b[0;34m)\u001b[0m \u001b[0;32mas\u001b[0m \u001b[0me\u001b[0m\u001b[0;34m:\u001b[0m\u001b[0;34m\u001b[0m\u001b[0;34m\u001b[0m\u001b[0m\n\u001b[1;32m    378\u001b[0m             \u001b[0;31m# Py2 raises this as a BaseSSLError, Py3 raises it as socket timeout.\u001b[0m\u001b[0;34m\u001b[0m\u001b[0;34m\u001b[0m\u001b[0;34m\u001b[0m\u001b[0m\n",
      "\u001b[0;32m/Library/Frameworks/Python.framework/Versions/3.8/lib/python3.8/site-packages/urllib3/connectionpool.py\u001b[0m in \u001b[0;36m_validate_conn\u001b[0;34m(self, conn)\u001b[0m\n\u001b[1;32m    992\u001b[0m         \u001b[0;31m# Force connect early to allow us to validate the connection.\u001b[0m\u001b[0;34m\u001b[0m\u001b[0;34m\u001b[0m\u001b[0;34m\u001b[0m\u001b[0m\n\u001b[1;32m    993\u001b[0m         \u001b[0;32mif\u001b[0m \u001b[0;32mnot\u001b[0m \u001b[0mgetattr\u001b[0m\u001b[0;34m(\u001b[0m\u001b[0mconn\u001b[0m\u001b[0;34m,\u001b[0m \u001b[0;34m\"sock\"\u001b[0m\u001b[0;34m,\u001b[0m \u001b[0;32mNone\u001b[0m\u001b[0;34m)\u001b[0m\u001b[0;34m:\u001b[0m  \u001b[0;31m# AppEngine might not have  `.sock`\u001b[0m\u001b[0;34m\u001b[0m\u001b[0;34m\u001b[0m\u001b[0m\n\u001b[0;32m--> 994\u001b[0;31m             \u001b[0mconn\u001b[0m\u001b[0;34m.\u001b[0m\u001b[0mconnect\u001b[0m\u001b[0;34m(\u001b[0m\u001b[0;34m)\u001b[0m\u001b[0;34m\u001b[0m\u001b[0;34m\u001b[0m\u001b[0m\n\u001b[0m\u001b[1;32m    995\u001b[0m \u001b[0;34m\u001b[0m\u001b[0m\n\u001b[1;32m    996\u001b[0m         \u001b[0;32mif\u001b[0m \u001b[0;32mnot\u001b[0m \u001b[0mconn\u001b[0m\u001b[0;34m.\u001b[0m\u001b[0mis_verified\u001b[0m\u001b[0;34m:\u001b[0m\u001b[0;34m\u001b[0m\u001b[0;34m\u001b[0m\u001b[0m\n",
      "\u001b[0;32m/Library/Frameworks/Python.framework/Versions/3.8/lib/python3.8/site-packages/urllib3/connection.py\u001b[0m in \u001b[0;36mconnect\u001b[0;34m(self)\u001b[0m\n\u001b[1;32m    298\u001b[0m     \u001b[0;32mdef\u001b[0m \u001b[0mconnect\u001b[0m\u001b[0;34m(\u001b[0m\u001b[0mself\u001b[0m\u001b[0;34m)\u001b[0m\u001b[0;34m:\u001b[0m\u001b[0;34m\u001b[0m\u001b[0;34m\u001b[0m\u001b[0m\n\u001b[1;32m    299\u001b[0m         \u001b[0;31m# Add certificate verification\u001b[0m\u001b[0;34m\u001b[0m\u001b[0;34m\u001b[0m\u001b[0;34m\u001b[0m\u001b[0m\n\u001b[0;32m--> 300\u001b[0;31m         \u001b[0mconn\u001b[0m \u001b[0;34m=\u001b[0m \u001b[0mself\u001b[0m\u001b[0;34m.\u001b[0m\u001b[0m_new_conn\u001b[0m\u001b[0;34m(\u001b[0m\u001b[0;34m)\u001b[0m\u001b[0;34m\u001b[0m\u001b[0;34m\u001b[0m\u001b[0m\n\u001b[0m\u001b[1;32m    301\u001b[0m         \u001b[0mhostname\u001b[0m \u001b[0;34m=\u001b[0m \u001b[0mself\u001b[0m\u001b[0;34m.\u001b[0m\u001b[0mhost\u001b[0m\u001b[0;34m\u001b[0m\u001b[0;34m\u001b[0m\u001b[0m\n\u001b[1;32m    302\u001b[0m \u001b[0;34m\u001b[0m\u001b[0m\n",
      "\u001b[0;32m/Library/Frameworks/Python.framework/Versions/3.8/lib/python3.8/site-packages/urllib3/connection.py\u001b[0m in \u001b[0;36m_new_conn\u001b[0;34m(self)\u001b[0m\n\u001b[1;32m    154\u001b[0m \u001b[0;34m\u001b[0m\u001b[0m\n\u001b[1;32m    155\u001b[0m         \u001b[0;32mtry\u001b[0m\u001b[0;34m:\u001b[0m\u001b[0;34m\u001b[0m\u001b[0;34m\u001b[0m\u001b[0m\n\u001b[0;32m--> 156\u001b[0;31m             conn = connection.create_connection(\n\u001b[0m\u001b[1;32m    157\u001b[0m                 \u001b[0;34m(\u001b[0m\u001b[0mself\u001b[0m\u001b[0;34m.\u001b[0m\u001b[0m_dns_host\u001b[0m\u001b[0;34m,\u001b[0m \u001b[0mself\u001b[0m\u001b[0;34m.\u001b[0m\u001b[0mport\u001b[0m\u001b[0;34m)\u001b[0m\u001b[0;34m,\u001b[0m \u001b[0mself\u001b[0m\u001b[0;34m.\u001b[0m\u001b[0mtimeout\u001b[0m\u001b[0;34m,\u001b[0m \u001b[0;34m**\u001b[0m\u001b[0mextra_kw\u001b[0m\u001b[0;34m\u001b[0m\u001b[0;34m\u001b[0m\u001b[0m\n\u001b[1;32m    158\u001b[0m             )\n",
      "\u001b[0;32m/Library/Frameworks/Python.framework/Versions/3.8/lib/python3.8/site-packages/urllib3/util/connection.py\u001b[0m in \u001b[0;36mcreate_connection\u001b[0;34m(address, timeout, source_address, socket_options)\u001b[0m\n\u001b[1;32m     72\u001b[0m             \u001b[0;32mif\u001b[0m \u001b[0msource_address\u001b[0m\u001b[0;34m:\u001b[0m\u001b[0;34m\u001b[0m\u001b[0;34m\u001b[0m\u001b[0m\n\u001b[1;32m     73\u001b[0m                 \u001b[0msock\u001b[0m\u001b[0;34m.\u001b[0m\u001b[0mbind\u001b[0m\u001b[0;34m(\u001b[0m\u001b[0msource_address\u001b[0m\u001b[0;34m)\u001b[0m\u001b[0;34m\u001b[0m\u001b[0;34m\u001b[0m\u001b[0m\n\u001b[0;32m---> 74\u001b[0;31m             \u001b[0msock\u001b[0m\u001b[0;34m.\u001b[0m\u001b[0mconnect\u001b[0m\u001b[0;34m(\u001b[0m\u001b[0msa\u001b[0m\u001b[0;34m)\u001b[0m\u001b[0;34m\u001b[0m\u001b[0;34m\u001b[0m\u001b[0m\n\u001b[0m\u001b[1;32m     75\u001b[0m             \u001b[0;32mreturn\u001b[0m \u001b[0msock\u001b[0m\u001b[0;34m\u001b[0m\u001b[0;34m\u001b[0m\u001b[0m\n\u001b[1;32m     76\u001b[0m \u001b[0;34m\u001b[0m\u001b[0m\n",
      "\u001b[0;31mKeyboardInterrupt\u001b[0m: "
     ]
    }
   ],
   "source": [
    "output = []\n",
    "for tweet in tweets_list:\n",
    "    text = tweet._json[\"full_text\"]\n",
    "    print(text)\n",
    "    favourite_count = tweet.favorite_count\n",
    "    retweet_count = tweet.retweet_count\n",
    "    created_at = tweet.created_at\n",
    "    \n",
    "    line = {'text' : text, 'favourite_count' : favourite_count, 'retweet_count' : retweet_count, 'created_at' : created_at}\n",
    "    output.append(line)"
   ]
  },
  {
   "cell_type": "code",
   "execution_count": 50,
   "metadata": {},
   "outputs": [
    {
     "data": {
      "text/plain": [
       "[]"
      ]
     },
     "execution_count": 50,
     "metadata": {},
     "output_type": "execute_result"
    }
   ],
   "source": [
    "output"
   ]
  },
  {
   "cell_type": "markdown",
   "metadata": {},
   "source": [
    "Finally, we convert the `output` list to a `pandas DataFrame` and we store results."
   ]
  },
  {
   "cell_type": "code",
   "execution_count": 51,
   "metadata": {},
   "outputs": [
    {
     "data": {
      "text/plain": [
       "[]"
      ]
     },
     "execution_count": 51,
     "metadata": {},
     "output_type": "execute_result"
    }
   ],
   "source": [
    "output"
   ]
  },
  {
   "cell_type": "code",
   "execution_count": 59,
   "metadata": {},
   "outputs": [],
   "source": [
    "import pandas as pd\n",
    "\n",
    "df = pd.DataFrame(output)\n",
    "df.to_csv('output.csv', mode='a', header=False)\n",
    "#df.to_csv('output.csv')"
   ]
  },
  {
   "cell_type": "code",
   "execution_count": 53,
   "metadata": {},
   "outputs": [
    {
     "data": {
      "text/plain": [
       "(0, 0)"
      ]
     },
     "execution_count": 53,
     "metadata": {},
     "output_type": "execute_result"
    }
   ],
   "source": [
    "df.shape"
   ]
  },
  {
   "cell_type": "code",
   "execution_count": 60,
   "metadata": {},
   "outputs": [
    {
     "data": {
      "text/html": [
       "<div>\n",
       "<style scoped>\n",
       "    .dataframe tbody tr th:only-of-type {\n",
       "        vertical-align: middle;\n",
       "    }\n",
       "\n",
       "    .dataframe tbody tr th {\n",
       "        vertical-align: top;\n",
       "    }\n",
       "\n",
       "    .dataframe thead th {\n",
       "        text-align: right;\n",
       "    }\n",
       "</style>\n",
       "<table border=\"1\" class=\"dataframe\">\n",
       "  <thead>\n",
       "    <tr style=\"text-align: right;\">\n",
       "      <th></th>\n",
       "      <th>text</th>\n",
       "      <th>favourite_count</th>\n",
       "      <th>retweet_count</th>\n",
       "      <th>created_at</th>\n",
       "    </tr>\n",
       "  </thead>\n",
       "  <tbody>\n",
       "    <tr>\n",
       "      <th>0</th>\n",
       "      <td>RT @Cirenderaliberi: PROSEGUONO I \"SUICIDI DI ...</td>\n",
       "      <td>0</td>\n",
       "      <td>10</td>\n",
       "      <td>2021-03-21 23:51:21</td>\n",
       "    </tr>\n",
       "    <tr>\n",
       "      <th>1</th>\n",
       "      <td>@Consu84 Sta lavorando.. il progetto esiste e ...</td>\n",
       "      <td>0</td>\n",
       "      <td>0</td>\n",
       "      <td>2021-03-21 23:48:31</td>\n",
       "    </tr>\n",
       "    <tr>\n",
       "      <th>2</th>\n",
       "      <td>@GingerPresident Il progetto esiste veramente,...</td>\n",
       "      <td>0</td>\n",
       "      <td>0</td>\n",
       "      <td>2021-03-21 23:45:02</td>\n",
       "    </tr>\n",
       "    <tr>\n",
       "      <th>3</th>\n",
       "      <td>RT @Vic5211: Guenda non si è inventata proprio...</td>\n",
       "      <td>0</td>\n",
       "      <td>3</td>\n",
       "      <td>2021-03-21 23:45:00</td>\n",
       "    </tr>\n",
       "    <tr>\n",
       "      <th>4</th>\n",
       "      <td>Guenda non si è inventata proprio nulla.. Alme...</td>\n",
       "      <td>6</td>\n",
       "      <td>3</td>\n",
       "      <td>2021-03-21 23:42:40</td>\n",
       "    </tr>\n",
       "    <tr>\n",
       "      <th>5</th>\n",
       "      <td>RT @MinervaMcGrani1: Allora amici se mi diment...</td>\n",
       "      <td>0</td>\n",
       "      <td>102</td>\n",
       "      <td>2021-03-21 23:42:22</td>\n",
       "    </tr>\n",
       "    <tr>\n",
       "      <th>6</th>\n",
       "      <td>RT @RobertoBurioni: Vi aspetto questa sera, pe...</td>\n",
       "      <td>0</td>\n",
       "      <td>84</td>\n",
       "      <td>2021-03-21 23:42:20</td>\n",
       "    </tr>\n",
       "    <tr>\n",
       "      <th>7</th>\n",
       "      <td>RT @donTonio66: Ai \"furbetti del vaccino\" e a ...</td>\n",
       "      <td>0</td>\n",
       "      <td>67</td>\n",
       "      <td>2021-03-21 23:41:59</td>\n",
       "    </tr>\n",
       "    <tr>\n",
       "      <th>8</th>\n",
       "      <td>RT @borghi_claudio: @Corss80 @Ferdi__Romano @P...</td>\n",
       "      <td>0</td>\n",
       "      <td>32</td>\n",
       "      <td>2021-03-21 23:41:36</td>\n",
       "    </tr>\n",
       "    <tr>\n",
       "      <th>9</th>\n",
       "      <td>Quando capirete che:\\n➡️ in periodo di Covid-1...</td>\n",
       "      <td>0</td>\n",
       "      <td>0</td>\n",
       "      <td>2021-03-21 23:40:40</td>\n",
       "    </tr>\n",
       "  </tbody>\n",
       "</table>\n",
       "</div>"
      ],
      "text/plain": [
       "                                                text  favourite_count  \\\n",
       "0  RT @Cirenderaliberi: PROSEGUONO I \"SUICIDI DI ...                0   \n",
       "1  @Consu84 Sta lavorando.. il progetto esiste e ...                0   \n",
       "2  @GingerPresident Il progetto esiste veramente,...                0   \n",
       "3  RT @Vic5211: Guenda non si è inventata proprio...                0   \n",
       "4  Guenda non si è inventata proprio nulla.. Alme...                6   \n",
       "5  RT @MinervaMcGrani1: Allora amici se mi diment...                0   \n",
       "6  RT @RobertoBurioni: Vi aspetto questa sera, pe...                0   \n",
       "7  RT @donTonio66: Ai \"furbetti del vaccino\" e a ...                0   \n",
       "8  RT @borghi_claudio: @Corss80 @Ferdi__Romano @P...                0   \n",
       "9  Quando capirete che:\\n➡️ in periodo di Covid-1...                0   \n",
       "\n",
       "   retweet_count          created_at  \n",
       "0             10 2021-03-21 23:51:21  \n",
       "1              0 2021-03-21 23:48:31  \n",
       "2              0 2021-03-21 23:45:02  \n",
       "3              3 2021-03-21 23:45:00  \n",
       "4              3 2021-03-21 23:42:40  \n",
       "5            102 2021-03-21 23:42:22  \n",
       "6             84 2021-03-21 23:42:20  \n",
       "7             67 2021-03-21 23:41:59  \n",
       "8             32 2021-03-21 23:41:36  \n",
       "9              0 2021-03-21 23:40:40  "
      ]
     },
     "execution_count": 60,
     "metadata": {},
     "output_type": "execute_result"
    }
   ],
   "source": [
    "df.head(10)"
   ]
  },
  {
   "cell_type": "code",
   "execution_count": null,
   "metadata": {},
   "outputs": [],
   "source": []
  }
 ],
 "metadata": {
  "kernelspec": {
   "display_name": "Python 3",
   "language": "python",
   "name": "python3"
  },
  "language_info": {
   "codemirror_mode": {
    "name": "ipython",
    "version": 3
   },
   "file_extension": ".py",
   "mimetype": "text/x-python",
   "name": "python",
   "nbconvert_exporter": "python",
   "pygments_lexer": "ipython3",
   "version": "3.8.1"
  }
 },
 "nbformat": 4,
 "nbformat_minor": 4
}
