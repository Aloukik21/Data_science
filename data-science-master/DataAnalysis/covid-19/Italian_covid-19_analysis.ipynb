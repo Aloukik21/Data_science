{
 "cells": [
  {
   "cell_type": "markdown",
   "metadata": {},
   "source": [
    "\n",
    "# Italian Covid-19 Analysis\n",
    "\n",
    "This notebook analyses data about covid-19 released by the Italian Protezione Civile and builds a predictor for the end of the epidemics. The general concepts behind this predictor are described in the following article: https://medium.com/@angelica.loduca/predicting-the-end-of-the-coronavirus-epidemics-in-italy-8da9811f7740.\n",
    "\n",
    "The notebook exploits the `pandas` and `scikit-learn` libraries.\n"
   ]
  },
  {
   "cell_type": "markdown",
   "metadata": {},
   "source": [
    "## Import data\n",
    "Firstly, we import data from the Github repository of the Italian Protezione Civile and then we calculate the Epidemics Progression Index (EPI). We extract columns `totale_casi`, which contains the total number of covid-19 infections since the epidemics began, and `tamponi`, which contains the total number of covid-19 swabs since the epidemics began. We store EPI in the `y` variable. Finally, we print all the list of dates for which we have data (`data['data']`)."
   ]
  },
  {
   "cell_type": "code",
   "execution_count": null,
   "metadata": {},
   "outputs": [],
   "source": [
    "import pandas as pd \n",
    "\n",
    "data = pd.read_csv(\"https://raw.githubusercontent.com/pcm-dpc/COVID-19/master/dati-andamento-nazionale/dpc-covid19-ita-andamento-nazionale.csv\") \n",
    "tc = data['totale_casi']\n",
    "tt = data['tamponi']\n",
    "y = []\n",
    "tt_increase = []\n",
    "for i in range(1, len(tt)):\n",
    "    current_epi = (tc[i] - tc[i-1])/(tt[i]-tt[i-1])*100\n",
    "    tt_increase.append(tt[i]-tt[i-1])\n",
    "    y.append(current_epi)\n",
    "data['data']"
   ]
  },
  {
   "cell_type": "markdown",
   "metadata": {},
   "source": [
    "Now we calculate the days for which we have data. We could use the variable `data['data']`. However, this variable is a string, so it is difficult to use it to fit a predictor. Thus we use a generic variable `X`, which contains a sequence of numbers, from 1 to the total number of samples."
   ]
  },
  {
   "cell_type": "code",
   "execution_count": null,
   "metadata": {},
   "outputs": [],
   "source": [
    "X = []\n",
    "for i in range(1, len(y)+1):\n",
    "    X.append([i])\n",
    "\n",
    "X"
   ]
  },
  {
   "cell_type": "markdown",
   "metadata": {},
   "source": [
    "## Preliminary plot\n",
    "Now we can plot y versus X, which means plotting EPI versus days. We plot also 2 additional lines: 1) the date corresponding to the beginning of restriction laws, 2) the date when the curve begins to decrease (a week later). These two lines can be understood when the plot is showed.\n",
    "\n",
    "In Italy restrictions laws began March 9th, which corresponds to the 14th day. In other words it corresponds to the 14 row in the `y` and `X` variables. Effects of the restriction laws can be seen after a week from March 9th. Thus they began on the 21st day."
   ]
  },
  {
   "cell_type": "code",
   "execution_count": null,
   "metadata": {},
   "outputs": [],
   "source": [
    "# vertical line corresponding to the beginning of restriction laws. \n",
    "di = 14\n",
    "restrictions_x = [di,di,di,di,di,di]\n",
    "restrictions_y = [0,10,20,30,40,50]"
   ]
  },
  {
   "cell_type": "code",
   "execution_count": null,
   "metadata": {},
   "outputs": [],
   "source": [
    "# vertical line corresponding to the beginning of effects of restriction laws (after a week)\n",
    "de = di + 7\n",
    "effects_x = [de,de,de,de,de,de]\n",
    "effects_y = [0,10,20,30,40,50]\n",
    "de"
   ]
  },
  {
   "cell_type": "markdown",
   "metadata": {},
   "source": [
    "Now we can plot the graph. We can convert `X` values to dates through the `xticks()` function."
   ]
  },
  {
   "cell_type": "code",
   "execution_count": null,
   "metadata": {},
   "outputs": [],
   "source": [
    "import matplotlib.pyplot as plt\n",
    "\n",
    "plt.scatter(X, y,  color='black')\n",
    "plt.plot(restrictions_x,restrictions_y, color='red', linewidth=2)\n",
    "plt.plot(effects_x,effects_y, color='green', linewidth=2)\n",
    "plt.grid()\n",
    "plt.xlabel('Days')\n",
    "plt.xlim(0,40)\n",
    "plt.ylim(0,50)\n",
    "plt.xticks([0,5,10,15,20,25,30,35,40],\n",
    "           [\"24 Febr\", \"29 Febr\", \"5 Mar\", \"10 Mar\", \"15 Mar\", \"20 Mar\", \"25 Mar\", \"30 Mar\", \"4 Apr\"])\n",
    "\n",
    "plt.ylabel('Epidemics Progression Index (EPI)')\n",
    "plt.savefig(\"EPI-all.png\")\n",
    "plt.show()"
   ]
  },
  {
   "cell_type": "markdown",
   "metadata": {},
   "source": [
    "We note that EPI begins to decrease from March 16th, i.e. exactly a week after restriction laws. Thus, we can approximate the curve from March 16th with a linear regression, which decreases progressively. \n",
    "\n",
    "## Build the model\n",
    "\n",
    "From the `sklearn` library we import the `linear_model`. Then we drop from `X` and `y` data before March 16th and we fit the `LinearRegression` model with `X` and `y`. Finally, we calculate the score of the model through the `score()` function."
   ]
  },
  {
   "cell_type": "code",
   "execution_count": null,
   "metadata": {},
   "outputs": [],
   "source": [
    "import numpy as np\n",
    "from sklearn import linear_model\n",
    "\n",
    "# alleno il modello solo a partire dagli effetti del cambiamento\n",
    "X = X[de:]\n",
    "y = y[de:]\n",
    "\n",
    "print(X)\n",
    "# Linear Regression\n",
    "linear_regr = linear_model.LinearRegression()\n",
    "\n",
    "# Train the model using the training sets\n",
    "linear_regr.fit(X, y)\n",
    "\n",
    "\n",
    "linear_regr.score(X,y)"
   ]
  },
  {
   "cell_type": "markdown",
   "metadata": {},
   "source": [
    "## Predict future trend\n",
    "Once fitted, we build the linear curve representing data, through function `predict()` and we calculate the maximum error done by the model through the function `max_error()` applied to the real values of `y` and the predicted values `y_pred`. This error will be used to build two new lines, the max line and minimum line, which will define the ranges between which new samples will move."
   ]
  },
  {
   "cell_type": "code",
   "execution_count": null,
   "metadata": {},
   "outputs": [],
   "source": [
    "from sklearn.metrics import max_error\n",
    "import math\n",
    "\n",
    "y_pred = linear_regr.predict(X)\n",
    "error = max_error(y, y_pred)\n",
    "error"
   ]
  },
  {
   "cell_type": "markdown",
   "metadata": {},
   "source": [
    "Now we can apply the model to predict EPI for next days. We build a variable `X_test`, which contains both old days (i.e. days for which data already are available) and future days. We define the variable `gp` containing the number of previsions days. \n",
    "\n",
    "Then we apply our model to `X_test`."
   ]
  },
  {
   "cell_type": "code",
   "execution_count": null,
   "metadata": {},
   "outputs": [],
   "source": [
    "X_test = []\n",
    "\n",
    "gp = 40\n",
    "\n",
    "for i in range(de, de + gp):\n",
    "    X_test.append([i])\n",
    "\n",
    "y_pred_linear = linear_regr.predict(X_test)"
   ]
  },
  {
   "cell_type": "markdown",
   "metadata": {},
   "source": [
    "The variable `y_pred_linear` contains the predicted IPE for next days. However, we should consider also the error made by the model. Thus we build two new variables `y_pred_max` and `y_pred_min` containing the `y_pred + error` and `y_pred - error`, respectively."
   ]
  },
  {
   "cell_type": "code",
   "execution_count": null,
   "metadata": {},
   "outputs": [],
   "source": [
    "y_pred_max = []\n",
    "y_pred_min = []\n",
    "for i in range(0, len(y_pred_linear)):\n",
    "    y_pred_max.append(y_pred_linear[i] + error)\n",
    "    y_pred_min.append(y_pred_linear[i] - error)"
   ]
  },
  {
   "cell_type": "markdown",
   "metadata": {},
   "source": [
    "## Plot results\n",
    "Now we are ready to plot data (`y_pred`, `y_pred_max` and `y_pred_min`). In order to make the plot more appealing, we should convert numbers (represented by the `X_test` variable) to dates. Thus we maintain two variables `x_ticks` and `date_prev`, which contain a subset of `X_test` and corresponding labels, respectively.. \n",
    "\n",
    "To build the mapping between `x_ticks` and `date_prev`, we extract the date of restrictions from the variable `data['data']` and we convert it to a date through the function `datetime.strptime()`. We store results in the variable `data_eff`. \n",
    "\n",
    "We build `x_ticks`, by sampling `X_test` every `step` items. We define `date_prev[0] = data_eff`. For each item, we can build `date_prev` by adding the `step` to the previous item."
   ]
  },
  {
   "cell_type": "code",
   "execution_count": null,
   "metadata": {},
   "outputs": [],
   "source": [
    "# calcolo la data iniziale degli effetti del cambiamento\n",
    "from datetime import datetime\n",
    "from datetime import timedelta  \n",
    "\n",
    "data_eff = datetime.strptime(data['data'][de], '%Y-%m-%dT%H:%M:%S')\n",
    "# date previsione\n",
    "date_prev = []\n",
    "x_ticks = []\n",
    "step = 5\n",
    "data_curr = data_eff\n",
    "x_current = de\n",
    "n = int(gp/step)\n",
    "for i in range(0, n):\n",
    "    date_prev.append(str(data_curr.day) + \"/\" + str(data_curr.month))\n",
    "    x_ticks.append(x_current)\n",
    "    data_curr = data_curr + timedelta(days=step)\n",
    "    x_current = x_current + step\n"
   ]
  },
  {
   "cell_type": "markdown",
   "metadata": {},
   "source": [
    "Now we can plot all the lines."
   ]
  },
  {
   "cell_type": "code",
   "execution_count": null,
   "metadata": {},
   "outputs": [],
   "source": [
    "plt.grid()\n",
    "plt.scatter(X, y,  color='black')\n",
    "\n",
    "plt.plot(X_test, y_pred_linear, color='green', linewidth=2)\n",
    "plt.plot(X_test, y_pred_max, color='red', linewidth=1, linestyle='dashed')\n",
    "plt.plot(X_test, y_pred_min, color='red', linewidth=1, linestyle='dashed')\n",
    "\n",
    "plt.xlabel('Days')\n",
    "plt.xlim(de,de+gp)\n",
    "\n",
    "plt.xticks(x_ticks, date_prev)\n",
    "plt.ylabel('Epidemics Progression Index (EPI)')\n",
    "plt.yscale(\"log\")\n",
    "\n",
    "plt.savefig(\"EPI-prediction.png\")\n",
    "plt.show()"
   ]
  },
  {
   "cell_type": "markdown",
   "metadata": {},
   "source": [
    "## Prediction of the 0 value of EPI\n",
    "\n",
    "Firstly we calculate an auxiliary function, which converts a number to the date. This function considers the as starting date `data_eff`."
   ]
  },
  {
   "cell_type": "code",
   "execution_count": null,
   "metadata": {},
   "outputs": [],
   "source": [
    "def n_to_date(n):\n",
    "    return data_eff + timedelta(days=n-de)"
   ]
  },
  {
   "cell_type": "markdown",
   "metadata": {},
   "source": [
    "Now we can calculate when the line crosses the x axis. Remind that the equation of a line is y = ax + b and the equation of the x axis is y = 0. Thus we have to solve the system containing both equations. As a result x = -b/a."
   ]
  },
  {
   "cell_type": "code",
   "execution_count": null,
   "metadata": {},
   "outputs": [],
   "source": [
    "data_zero = round(- linear_regr.intercept_ / linear_regr.coef_[0])\n",
    "n_to_date(data_zero)"
   ]
  },
  {
   "cell_type": "markdown",
   "metadata": {},
   "source": [
    "The previous calculus is done only for the line defined by the regression. Now we should calculate also values for `y_pred_max` and `y_pred_min`. We define an auxiliary function, called `build_line()`, which builds a line from two points and returns the coefficients of the line."
   ]
  },
  {
   "cell_type": "code",
   "execution_count": null,
   "metadata": {},
   "outputs": [],
   "source": [
    "def build_line(x1,y1,x2,y2):\n",
    "    m = float(y2 - y1)/(x2-x1)\n",
    "    q = y1 - (m*x1)\n",
    "    return [m,q]"
   ]
  },
  {
   "cell_type": "markdown",
   "metadata": {},
   "source": [
    "Now we can calculate the ending date for `y_pred_min` and `y_pred_max`. We approximate the zero date for max to the `ceil()` of obtained value, and the zero date for min to the `floor()` of the obtained value."
   ]
  },
  {
   "cell_type": "code",
   "execution_count": null,
   "metadata": {},
   "outputs": [],
   "source": [
    "import math\n",
    "line_max = build_line(X_test[0][0], y_pred_max[0], X_test[1][0], y_pred_max[1])\n",
    "data_zero_max = math.ceil(- line_max[1] / line_max[0])\n",
    "n_to_date(data_zero_max)"
   ]
  },
  {
   "cell_type": "code",
   "execution_count": null,
   "metadata": {},
   "outputs": [],
   "source": [
    "line_min = build_line(X_test[0][0], y_pred_min[0], X_test[1][0], y_pred_min[1])\n",
    "data_zero_min = math.floor(- line_min[1] / line_min[0])\n",
    "n_to_date(data_zero_min)"
   ]
  },
  {
   "cell_type": "markdown",
   "metadata": {},
   "source": [
    "## Predict the value of EPI for a generic date\n",
    "\n",
    "We define an auxiliary function, called `date_to_n()`, which converts a generic date to the number of days since starting date. Then, we apply the model to the obtained value."
   ]
  },
  {
   "cell_type": "code",
   "execution_count": null,
   "metadata": {},
   "outputs": [],
   "source": [
    "def date_to_n(my_date):\n",
    "    initial_date = datetime.strptime(data['data'][0], '%Y-%m-%dT%H:%M:%S')\n",
    "    return (my_date - initial_date).days + 1\n",
    "\n",
    "my_date = datetime.strptime(\"2020-04-05\", '%Y-%m-%d')\n",
    "n = date_to_n(my_date)\n",
    "predict = linear_regr.predict([[n]])\n",
    "predict[0]"
   ]
  },
  {
   "cell_type": "markdown",
   "metadata": {},
   "source": [
    "## Predicting the maximum number of infections\n",
    "Now we can build the maximum values of the total number of infections. We can exploit the formula of EPI: `y_pred[i] = (tc[i] - tc[i-1])/(tt[i]-tt[i-1])*100` to calculate the value of `tt[i] = y_pred[i]*/(tt[i]-tt[i-1])*100) + tc[i]`. The difference `tt[i]-tt[i-1]` represents the number of swabs at instant `i`, thus we can approximate it as an average value of `data['tamponi']` (stored in the variable `tt_increase`). Alternatively, we could calculate also the difference as the minimum or maximum value. Thus, we calculate the average value of `tt` (called `avg_tt`) as a metrics of `tt_increase[de:]`. The metrics is passed as parameter of the function."
   ]
  },
  {
   "cell_type": "code",
   "execution_count": null,
   "metadata": {},
   "outputs": [],
   "source": [
    "def average(mylist):\n",
    "    return sum(mylist)/len(mylist)\n",
    "\n",
    "# calculate the plateau considering the average increase of swabs\n",
    "def plateau(y_pred,data_end,metrics):\n",
    "    avg_tt = metrics(tt_increase[de:])\n",
    "\n",
    "    np_avg = []\n",
    "    #np_start = data['totale_casi'][len(data['totale_casi'])-1]\n",
    "    np_start = data['totale_casi'][de]\n",
    "    np_avg.append(np_start)\n",
    "\n",
    "    for i in range(0, data_end-de):\n",
    "        np = y_pred[i]*avg_tt/100 + np_avg[i-1]\n",
    "        np_avg.append(np)\n",
    "        \n",
    "    last_value = max(np_avg)\n",
    "    for i in range(0, gp-len(np_avg)):\n",
    "        np_avg.append(last_value)\n",
    "    return np_avg"
   ]
  },
  {
   "cell_type": "markdown",
   "metadata": {},
   "source": [
    "Now, we can calculate the plateau for `y_pred_min`, `y_pred_max` and `y_pred_linear` by considering the maximum as metrics."
   ]
  },
  {
   "cell_type": "code",
   "execution_count": null,
   "metadata": {},
   "outputs": [],
   "source": [
    "plateau_min = plateau(y_pred_min,data_zero_min, max)\n",
    "plateau_max = plateau(y_pred_max,data_zero_max, max)\n",
    "plateau_avg = plateau(y_pred_linear,int(data_zero), max)"
   ]
  },
  {
   "cell_type": "markdown",
   "metadata": {},
   "source": [
    "Finally, we plot results and we print the maximum values."
   ]
  },
  {
   "cell_type": "code",
   "execution_count": null,
   "metadata": {},
   "outputs": [],
   "source": [
    "plt.plot(X_test,plateau_min, color='red', linewidth=1, linestyle='dashed')\n",
    "plt.plot(X_test,plateau_max, color='red', linewidth=1, linestyle='dashed')\n",
    "plt.plot(X_test,plateau_avg, color='green', linewidth=2)\n",
    "plt.scatter(X,tc[de+1:], color='black', linewidth=2)\n",
    "plt.xlabel('Days')\n",
    "plt.xlim(de,de+gp)\n",
    "#plt.ylim(0,50)\n",
    "plt.xticks(x_ticks, date_prev)\n",
    "#plt.yticks([0,20,30,40,50,60])\n",
    "\n",
    "plt.ylabel('Total number of positives')\n",
    "plt.grid()\n",
    "plt.savefig(\"TNP.png\")\n",
    "plt.show()\n"
   ]
  },
  {
   "cell_type": "code",
   "execution_count": null,
   "metadata": {},
   "outputs": [],
   "source": [
    "max(plateau_min)"
   ]
  },
  {
   "cell_type": "code",
   "execution_count": null,
   "metadata": {
    "scrolled": true
   },
   "outputs": [],
   "source": [
    "max(plateau_max)"
   ]
  },
  {
   "cell_type": "code",
   "execution_count": null,
   "metadata": {},
   "outputs": [],
   "source": [
    "max(plateau_avg)"
   ]
  },
  {
   "cell_type": "code",
   "execution_count": null,
   "metadata": {},
   "outputs": [],
   "source": []
  }
 ],
 "metadata": {
  "kernelspec": {
   "display_name": "Python 3",
   "language": "python",
   "name": "python3"
  },
  "language_info": {
   "codemirror_mode": {
    "name": "ipython",
    "version": 3
   },
   "file_extension": ".py",
   "mimetype": "text/x-python",
   "name": "python",
   "nbconvert_exporter": "python",
   "pygments_lexer": "ipython3",
   "version": "3.8.1"
  }
 },
 "nbformat": 4,
 "nbformat_minor": 1
}
